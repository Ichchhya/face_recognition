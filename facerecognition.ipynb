{
  "nbformat": 4,
  "nbformat_minor": 0,
  "metadata": {
    "colab": {
      "name": "facerecognition.ipynb",
      "provenance": [],
      "authorship_tag": "ABX9TyOwLe28xXBmd598vO0Lithw",
      "include_colab_link": true
    },
    "kernelspec": {
      "name": "python3",
      "display_name": "Python 3"
    },
    "accelerator": "GPU"
  },
  "cells": [
    {
      "cell_type": "markdown",
      "metadata": {
        "id": "view-in-github",
        "colab_type": "text"
      },
      "source": [
        "<a href=\"https://colab.research.google.com/github/Ichchhya/face_recognition/blob/master/facerecognition.ipynb\" target=\"_parent\"><img src=\"https://colab.research.google.com/assets/colab-badge.svg\" alt=\"Open In Colab\"/></a>"
      ]
    },
    {
      "cell_type": "code",
      "metadata": {
        "id": "qPUx8bC4DUOF",
        "colab_type": "code",
        "colab": {}
      },
      "source": [
        "import face_recognition\n",
        "import cv2\n",
        "import os\n",
        "from google.colab.patches import cv2_imshow\n",
        "\n",
        "def read_img(path):\n",
        "  img=cv2.imread(path)\n",
        "  # print(img.shape[:2])\n",
        "  h,w= img.shape[:2]\n",
        "  width=500\n",
        "  ratio= width/float(w)\n",
        "  height= int(h * ratio)\n",
        "  return cv2.resize(img, (width , height))\n",
        "\n",
        "known_encodings=[]\n",
        "known_names=[]\n",
        "\n",
        "known_dir='known/'\n",
        "\n",
        "for imgfile in os.listdir(known_dir):\n",
        "  paths=known_dir + imgfile\n",
        "  if \".ipynb\" in imgfile:\n",
        "    pass\n",
        "  else:\n",
        "    img = read_img(paths)\n",
        "    img_enc = face_recognition.face_encodings(img)[0]\n",
        "    known_encodings.append(img_enc)\n",
        "    known_names.append(imgfile.split('.')[0])\n",
        "\n",
        "unknown_dir = 'unknown/'\n",
        "for imgfile in os.listdir(unknown_dir):\n",
        "  if \".ipynb\" in imgfile:\n",
        "    pass\n",
        "  else:\n",
        "    filepath=unknown_dir + imgfile\n",
        "    print(filepath)\n",
        "    print(\"Processing\", imgfile)\n",
        "    img = read_img(filepath)\n",
        "    img_enc = face_recognition.face_encodings(img)[0]\n",
        "\n",
        "    results = face_recognition.compare_faces(known_encodings, img_enc)\n",
        "    print(results)\n",
        "    for i in range(len(results)):\n",
        "          if results[i]:\n",
        "              name = known_names[i]\n",
        "              # print(name)\n",
        "              (top, right, bottom, left) = face_recognition.face_locations(img)[0]\n",
        "              cv2.rectangle(img, (left, top), (right, bottom), (0, 0, 255), 2)\n",
        "              cv2.putText(img, name, (left+2, bottom+20), cv2.FONT_HERSHEY_SIMPLEX, 2, (0, 0, 0), 3)\n",
        "              cv2_imshow(img)\n",
        "\n"
      ],
      "execution_count": null,
      "outputs": []
    }
  ]
}